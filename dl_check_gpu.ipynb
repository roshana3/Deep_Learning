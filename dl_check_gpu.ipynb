{
  "nbformat": 4,
  "nbformat_minor": 0,
  "metadata": {
    "colab": {
      "provenance": []
    },
    "kernelspec": {
      "name": "python3",
      "display_name": "Python 3"
    },
    "language_info": {
      "name": "python"
    }
  },
  "cells": [
    {
      "cell_type": "code",
      "execution_count": null,
      "metadata": {
        "colab": {
          "base_uri": "https://localhost:8080/"
        },
        "id": "1re-6YhpJ1s9",
        "outputId": "bba8ce45-ab70-47dd-a13b-125ebadb4e5f"
      },
      "outputs": [
        {
          "output_type": "stream",
          "name": "stdout",
          "text": [
            "Python Platform: Linux-6.1.85+-x86_64-with-glibc2.35\n",
            "Tensor Flow Version: 2.15.0\n",
            "\n",
            "Python 3.10.12 (main, Mar 22 2024, 16:50:05) [GCC 11.4.0]\n",
            "Pandas 2.0.3\n",
            "Scikit-Learn 1.3.2\n",
            "GPU is NOT AVAILABLE\n"
          ]
        }
      ],
      "source": [
        "import sys\n",
        "\n",
        "import tensorflow.keras\n",
        "import pandas as pd\n",
        "import sklearn as sk\n",
        "import tensorflow as tf\n",
        "import platform\n",
        "\n",
        "print(f\"Python Platform: {platform.platform()}\")\n",
        "print(f\"Tensor Flow Version: {tf.__version__}\")\n",
        "print()\n",
        "print(f\"Python {sys.version}\")\n",
        "print(f\"Pandas {pd.__version__}\")\n",
        "print(f\"Scikit-Learn {sk.__version__}\")\n",
        "gpu = len(tf.config.list_physical_devices('GPU'))>0\n",
        "print(\"GPU is\", \"available\" if gpu else \"NOT AVAILABLE\")\n"
      ]
    },
    {
      "cell_type": "code",
      "source": [
        "import tensorflow as tf\n",
        "from tensorflow.python.client import device_lib\n",
        "\n"
      ],
      "metadata": {
        "id": "2cq5K0uqrgYW"
      },
      "execution_count": null,
      "outputs": []
    },
    {
      "cell_type": "code",
      "source": [
        "import tensorflow as tf\n",
        "from tensorflow.python.client import device_lib\n",
        "\n",
        "gpus = tf.config.list_physical_devices('GPU')\n",
        "\n",
        "if gpus:\n",
        "    print(f\"Number of GPUs available: {len(gpus)}\\n\")\n",
        "    for i, gpu in enumerate(gpus):\n",
        "        print(f\"GPU: {i}\")\n",
        "        print(f\"Name: {gpu.name}\")\n",
        "        print(f\"Device Type: {gpu.device_type}\")\n",
        "\n",
        "        # Get detailed device info\n",
        "        gpu_details = device_lib.list_local_devices()\n",
        "\n",
        "        for device in gpu_details:\n",
        "            if device.device_type == 'GPU':\n",
        "                print(f\"Device Description: {device.physical_device_desc}\")\n",
        "                print(f\"Memory Limit: {device.memory_limit / (1024 ** 3):.2f} GB\\n\")\n",
        "\n",
        "else:\n",
        "    print(\"No GPU available\")\n"
      ],
      "metadata": {
        "colab": {
          "base_uri": "https://localhost:8080/"
        },
        "id": "ZWRmiZZvrX33",
        "outputId": "9cdc80b3-3d39-43fc-e821-bba84afcea37"
      },
      "execution_count": null,
      "outputs": [
        {
          "output_type": "stream",
          "name": "stdout",
          "text": [
            "No GPU available\n"
          ]
        }
      ]
    }
  ]
}